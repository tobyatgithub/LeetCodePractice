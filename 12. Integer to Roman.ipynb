{
 "cells": [
  {
   "cell_type": "code",
   "execution_count": 1,
   "metadata": {},
   "outputs": [],
   "source": [
    "# 12. Integer to Roman\n",
    "# https://leetcode.com/problems/integer-to-roman/description/\n"
   ]
  },
  {
   "cell_type": "code",
   "execution_count": 83,
   "metadata": {},
   "outputs": [],
   "source": [
    "def intToRoman(num):\n",
    "    \"\"\"\n",
    "    :type num: int\n",
    "    :rtype: str\n",
    "    \"\"\"\n",
    "    digits = [1,5,10,50,100,500,1000]\n",
    "    letters = [\"I\",\"V\",\"X\",\"L\",\"C\",\"D\",\"M\"]\n",
    "    res = \"\"\n",
    "#     num = int(\"2100\")\n",
    "#     num = 14\n",
    "    for i in range(len(digits)-1,-1,-1):\n",
    "\n",
    "        d = num // digits[i]\n",
    "        r = num % digits[i]\n",
    "#         print(\"running num = %d, with d = %d, and r = %d\" %(num, d, r))\n",
    "#         print(digits[i], letters[i])\n",
    "        if str(num)[0] == \"9\":\n",
    "\n",
    "    #     if (d == 1) and (r == 4): #bad since 14 will be classified to this case\n",
    "#             print(\"ops\")\n",
    "            res += (letters[i-1] + letters[i+1])\n",
    "            num = num - 9 * (10 ** (len(str(num)) - 1))\n",
    "\n",
    "    #         pass\n",
    "        elif d == 4:\n",
    "            res += (letters[i] + letters[i+1])\n",
    "            num = num - digits[i] * d\n",
    "    #         pass\n",
    "        else:\n",
    "            res += (letters[i]*d)\n",
    "            num = num - digits[i] * d\n",
    "    return res\n",
    "#         print(i,d,r, num, res)\n",
    "#     break    \n",
    "\n",
    "\n",
    "    \n",
    "    "
   ]
  },
  {
   "cell_type": "code",
   "execution_count": 84,
   "metadata": {},
   "outputs": [
    {
     "name": "stdout",
     "output_type": "stream",
     "text": [
      "4 IV\n",
      "14 XIV\n",
      "19 XIX\n",
      "24 XXIV\n",
      "29 XXIX\n",
      "49 XLIX\n",
      "2 II\n",
      "10 X\n",
      "58 LVIII\n"
     ]
    }
   ],
   "source": [
    "testList = [4, 14, 19, 24, 29, 49, 2,10,58]\n",
    "testANs = [\"IV\",\"XIV\",\"XIX\",\"XXIV\",\"XXIX\",\"XLIX\"]\n",
    "for t in testList:\n",
    "    print(t, intToRoman(t))"
   ]
  },
  {
   "cell_type": "code",
   "execution_count": 85,
   "metadata": {},
   "outputs": [
    {
     "data": {
      "text/plain": [
       "'MCMLDIV'"
      ]
     },
     "execution_count": 85,
     "metadata": {},
     "output_type": "execute_result"
    }
   ],
   "source": [
    "intToRoman(1994) # \"MCMXCIV\""
   ]
  },
  {
   "cell_type": "code",
   "execution_count": 46,
   "metadata": {},
   "outputs": [
    {
     "data": {
      "text/plain": [
       "'9'"
      ]
     },
     "execution_count": 46,
     "metadata": {},
     "output_type": "execute_result"
    }
   ],
   "source": [
    "\"9999\"[0]"
   ]
  },
  {
   "cell_type": "code",
   "execution_count": null,
   "metadata": {},
   "outputs": [],
   "source": []
  },
  {
   "cell_type": "code",
   "execution_count": 86,
   "metadata": {},
   "outputs": [],
   "source": [
    "# version 2, from discussion, a database solution\n",
    "def intToRoman(num):\n",
    "    \"\"\"\n",
    "    :type num: int\n",
    "    :rtype: str\n",
    "    \"\"\"\n",
    "    num = int(num)\n",
    "    M = [\"\", \"M\", \"MM\", \"MMM\"]\n",
    "    C = [\"\", \"C\", \"CC\", \"CCC\", \"CD\", \"D\", \"DC\", \"DCC\", \"DCCC\", \"CM\"]\n",
    "    X = [\"\", \"X\", \"XX\", \"XXX\", \"XL\", \"L\", \"LX\", \"LXX\", \"LXXX\", \"XC\"]\n",
    "    I = [\"\", \"I\", \"II\", \"III\", \"IV\", \"V\", \"VI\", \"VII\", \"VIII\", \"IX\"]\n",
    "    return M[num//1000] + C[(num%1000)//100] + X[(num%100)//10] + I[num%10];"
   ]
  },
  {
   "cell_type": "code",
   "execution_count": null,
   "metadata": {},
   "outputs": [],
   "source": []
  }
 ],
 "metadata": {
  "kernelspec": {
   "display_name": "Python 3",
   "language": "python",
   "name": "python3"
  },
  "language_info": {
   "codemirror_mode": {
    "name": "ipython",
    "version": 3
   },
   "file_extension": ".py",
   "mimetype": "text/x-python",
   "name": "python",
   "nbconvert_exporter": "python",
   "pygments_lexer": "ipython3",
   "version": "3.6.6"
  }
 },
 "nbformat": 4,
 "nbformat_minor": 2
}
