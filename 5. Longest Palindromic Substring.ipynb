{
 "cells": [
  {
   "cell_type": "code",
   "execution_count": 1,
   "metadata": {},
   "outputs": [],
   "source": [
    "# 5. Longest Palindromic Substring\n",
    "# https://leetcode.com/problems/longest-palindromic-substring/description/\n",
    "\n",
    "# wow, this one is really hard...or say I'm really not familar with it\n",
    "# the only approach I can think about is--\n",
    "# permute every possible substrings, from long to short, and then check whether they fit the requirement\n",
    "# worst case: 500 * 1001 (since s <= 1000) = check 500500 cases"
   ]
  },
  {
   "cell_type": "code",
   "execution_count": 9,
   "metadata": {},
   "outputs": [
    {
     "name": "stdout",
     "output_type": "stream",
     "text": [
      "[]\n",
      "5\n",
      "[]\n",
      "4\n",
      "[]\n",
      "3\n",
      "[3]\n",
      "2\n"
     ]
    }
   ],
   "source": [
    "for i in range(5,1,-1):\n",
    "    print(a[i:(5-i)])\n",
    "    print(i)"
   ]
  },
  {
   "cell_type": "code",
   "execution_count": 10,
   "metadata": {},
   "outputs": [
    {
     "name": "stdout",
     "output_type": "stream",
     "text": [
      "[1, 2, 3, 4, 5]\n",
      "0\n",
      "[2, 3, 4]\n",
      "1\n",
      "[3]\n",
      "2\n",
      "[]\n",
      "3\n",
      "[]\n",
      "4\n"
     ]
    }
   ],
   "source": [
    "for i in range(0,5):\n",
    "    print(a[i:(5-i)])\n",
    "    print(i)"
   ]
  },
  {
   "cell_type": "code",
   "execution_count": 12,
   "metadata": {},
   "outputs": [
    {
     "data": {
      "text/plain": [
       "[1]"
      ]
     },
     "execution_count": 12,
     "metadata": {},
     "output_type": "execute_result"
    }
   ],
   "source": [
    "a[0:1]"
   ]
  },
  {
   "cell_type": "code",
   "execution_count": 3,
   "metadata": {},
   "outputs": [
    {
     "data": {
      "text/plain": [
       "[5, 4, 3, 2, 1]"
      ]
     },
     "execution_count": 3,
     "metadata": {},
     "output_type": "execute_result"
    }
   ],
   "source": [
    "a = [1,2,3,4,5]\n",
    "a[::-1]"
   ]
  },
  {
   "cell_type": "code",
   "execution_count": 8,
   "metadata": {},
   "outputs": [
    {
     "name": "stdout",
     "output_type": "stream",
     "text": [
      "5\n",
      "[1, 2, 3, 4]\n",
      "[1, 2, 3, 4, 5]\n"
     ]
    }
   ],
   "source": [
    "print(len(a))\n",
    "print(a[0:4])\n",
    "print(a[0:5])"
   ]
  },
  {
   "cell_type": "code",
   "execution_count": 43,
   "metadata": {},
   "outputs": [
    {
     "data": {
      "text/plain": [
       "'bcb'"
      ]
     },
     "execution_count": 43,
     "metadata": {},
     "output_type": "execute_result"
    }
   ],
   "source": [
    "# version 1...which seems finnaly correct... but definitely is way too complicated\n",
    "# error: memory limite exceeded...\n",
    "\n",
    "def longestPalindrome(s):\n",
    "    \"\"\"\n",
    "    :type s: str\n",
    "    :rtype: str\n",
    "    \"\"\"\n",
    "\n",
    "    max_length = len(s)\n",
    "    for i in range(0, max_length+1):\n",
    "        for j in range(0,i+1):\n",
    "            tmp = s[j:(j + max_length - i)]\n",
    "#             print(tmp)\n",
    "            if tmp == tmp[::-1]:\n",
    "                return tmp\n",
    "    return \"\"\n",
    "\n",
    "longestPalindrome(\"eabcb\")"
   ]
  },
  {
   "cell_type": "code",
   "execution_count": 38,
   "metadata": {},
   "outputs": [
    {
     "data": {
      "text/plain": [
       "False"
      ]
     },
     "execution_count": 38,
     "metadata": {},
     "output_type": "execute_result"
    }
   ],
   "source": [
    "b = \"eabcb\"\n",
    "b == b[::-1]"
   ]
  },
  {
   "cell_type": "code",
   "execution_count": 41,
   "metadata": {},
   "outputs": [
    {
     "data": {
      "text/plain": [
       "'abc'"
      ]
     },
     "execution_count": 41,
     "metadata": {},
     "output_type": "execute_result"
    }
   ],
   "source": [
    "b[1:len(b) - 1]"
   ]
  },
  {
   "cell_type": "code",
   "execution_count": null,
   "metadata": {},
   "outputs": [],
   "source": []
  },
  {
   "cell_type": "code",
   "execution_count": 56,
   "metadata": {},
   "outputs": [
    {
     "ename": "TypeError",
     "evalue": "longestPalindrome() missing 1 required positional argument: 's'",
     "output_type": "error",
     "traceback": [
      "\u001b[0;31m---------------------------------------------------------------------------\u001b[0m",
      "\u001b[0;31mTypeError\u001b[0m                                 Traceback (most recent call last)",
      "\u001b[0;32m<ipython-input-56-f734c0b7e5ad>\u001b[0m in \u001b[0;36m<module>\u001b[0;34m()\u001b[0m\n\u001b[1;32m     31\u001b[0m \u001b[0;34m\u001b[0m\u001b[0m\n\u001b[1;32m     32\u001b[0m \u001b[0;34m\u001b[0m\u001b[0m\n\u001b[0;32m---> 33\u001b[0;31m \u001b[0mlongestPalindrome\u001b[0m\u001b[0;34m(\u001b[0m\u001b[0;34m\"eabcb\"\u001b[0m\u001b[0;34m)\u001b[0m\u001b[0;34m\u001b[0m\u001b[0m\n\u001b[0m",
      "\u001b[0;31mTypeError\u001b[0m: longestPalindrome() missing 1 required positional argument: 's'"
     ]
    }
   ],
   "source": [
    "# version 2, smart one from discussion!\n",
    "\n",
    "def longestPalindrome(self, s):\n",
    "    \"\"\"\n",
    "    :type s: str\n",
    "    :rtype: str\n",
    "    \"\"\"\n",
    "    res = \"\"\n",
    "    for i in range(len(s)):\n",
    "        if len(s)%2 == 0:\n",
    "            tmp = self.helper(s, i, i)\n",
    "        else:\n",
    "            tmp = self.helper(s, i, i+1)\n",
    "        if len(tmp)>len(res):\n",
    "            res = tmp\n",
    "    return res\n",
    "\n",
    "def helper(self, s, l ,r):\n",
    "    # s = string\n",
    "    # l = left index\n",
    "    # r = right index\n",
    "    \"\"\"\n",
    "    The idea of this function is, given the string s, and the left starting index and right starting index,\n",
    "    you check from the center to the boundary, to check palindrome quality. from inner to outer\n",
    "    output: longest palindrome given the combo\n",
    "    \"\"\"\n",
    "    while (l > 0) and (r < len(s)) and (s[l] == s[r]):\n",
    "        l = l - 1\n",
    "        r = r + 1\n",
    "    return s[l+1:r]\n",
    "    \n",
    "\n",
    "longestPalindrome(\"eabcb\")"
   ]
  },
  {
   "cell_type": "code",
   "execution_count": 84,
   "metadata": {},
   "outputs": [
    {
     "name": "stdout",
     "output_type": "stream",
     "text": [
      "running 0 th word: a\n"
     ]
    },
    {
     "data": {
      "text/plain": [
       "'a'"
      ]
     },
     "execution_count": 84,
     "metadata": {},
     "output_type": "execute_result"
    }
   ],
   "source": [
    "# version 2, smart one from discussion!\n",
    "# humm.. can't solve single element input\n",
    "def longestPalindrome(s):\n",
    "    \"\"\"\n",
    "    :type s: str\n",
    "    :rtype: str\n",
    "    \"\"\"\n",
    "    res = \"\"\n",
    "    for i in range(len(s)):\n",
    "        if len(s)%2 == 0:\n",
    "            tmp = helper(s, i, i+1)\n",
    "        else:\n",
    "            tmp = helper(s, i, i)\n",
    "        print(\"running %d th word: %s\" %(i, tmp))\n",
    "        if len(tmp)>len(res):\n",
    "            res = tmp\n",
    "    return res\n",
    "\n",
    "def helper(s, l ,r):\n",
    "    # s = string\n",
    "    # l = left index\n",
    "    # r = right index\n",
    "    \"\"\"\n",
    "    The idea of this function is, given the string s, and the left starting index and right starting index,\n",
    "    you check from the center to the boundary, to check palindrome quality. from inner to outer\n",
    "    output: longest palindrome given the combo\n",
    "    \"\"\"\n",
    "    while (l >= 0) and (r < len(s)) and (s[l] == s[r]):\n",
    "        l = l - 1\n",
    "        r = r + 1\n",
    "    return s[l+1:r]\n",
    "    \n",
    "\n",
    "longestPalindrome(\"a\")"
   ]
  },
  {
   "cell_type": "code",
   "execution_count": 68,
   "metadata": {},
   "outputs": [
    {
     "data": {
      "text/plain": [
       "''"
      ]
     },
     "execution_count": 68,
     "metadata": {},
     "output_type": "execute_result"
    }
   ],
   "source": [
    "helper(\"a\",0,0)"
   ]
  },
  {
   "cell_type": "code",
   "execution_count": 69,
   "metadata": {},
   "outputs": [
    {
     "data": {
      "text/plain": [
       "''"
      ]
     },
     "execution_count": 69,
     "metadata": {},
     "output_type": "execute_result"
    }
   ],
   "source": [
    "\"a\"[1:0]"
   ]
  },
  {
   "cell_type": "code",
   "execution_count": 82,
   "metadata": {},
   "outputs": [
    {
     "data": {
      "text/plain": [
       "'b'"
      ]
     },
     "execution_count": 82,
     "metadata": {},
     "output_type": "execute_result"
    }
   ],
   "source": [
    "# version 3, smart one from discussion!\n",
    "# notice that in helper while condition, l shall be >= than 0, > will be wrong\n",
    "\n",
    "\n",
    "def longestPalindrome(self, s):\n",
    "    \"\"\"\n",
    "    :type s: str\n",
    "    :rtype: str\n",
    "    \"\"\"\n",
    "    # if len(s) == 0:\n",
    "    #     return s\n",
    "    # elif len(s) == 1:\n",
    "    #     return s\n",
    "    # elif len(s) == 2:\n",
    "    #     if s == s[::-1]:\n",
    "    #         return s\n",
    "    #     else:\n",
    "    #         return s[0]\n",
    "\n",
    "    res = \"\"\n",
    "    for i in range(len(s)):\n",
    "        tmp = self.helper(s, i, i)\n",
    "        if len(tmp)>len(res):\n",
    "            res = tmp            \n",
    "        tmp = self.helper(s, i, i+1)\n",
    "        if len(tmp)>len(res):\n",
    "            res = tmp\n",
    "    return res\n",
    "\n",
    "def helper(self, s, l ,r):\n",
    "    # s = string\n",
    "    # l = left index\n",
    "    # r = right index\n",
    "    \"\"\"\n",
    "    The idea of this function is, given the string s, and the left starting index and right starting index,\n",
    "    you check from the center to the boundary, to check palindrome quality. from inner to outer\n",
    "    output: longest palindrome given the combo\n",
    "    \"\"\"\n",
    "    # tmp = \"\"\n",
    "    while (l >= 0) and (r < len(s)) and (s[l] == s[r]):\n",
    "        # tmp = s[l:r+1]\n",
    "        l = l - 1\n",
    "        r = r + 1\n",
    "    return s[l+1:r]\n",
    "    # return tmp\n",
    "\n",
    "longestPalindrome(\"bb\")"
   ]
  },
  {
   "cell_type": "code",
   "execution_count": 83,
   "metadata": {},
   "outputs": [
    {
     "data": {
      "text/plain": [
       "0"
      ]
     },
     "execution_count": 83,
     "metadata": {},
     "output_type": "execute_result"
    }
   ],
   "source": [
    "len('')"
   ]
  },
  {
   "cell_type": "code",
   "execution_count": null,
   "metadata": {},
   "outputs": [],
   "source": []
  }
 ],
 "metadata": {
  "kernelspec": {
   "display_name": "Python 3",
   "language": "python",
   "name": "python3"
  },
  "language_info": {
   "codemirror_mode": {
    "name": "ipython",
    "version": 3
   },
   "file_extension": ".py",
   "mimetype": "text/x-python",
   "name": "python",
   "nbconvert_exporter": "python",
   "pygments_lexer": "ipython3",
   "version": "3.6.6"
  }
 },
 "nbformat": 4,
 "nbformat_minor": 2
}
