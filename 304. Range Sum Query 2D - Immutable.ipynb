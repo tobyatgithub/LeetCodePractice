{
 "cells": [
  {
   "cell_type": "code",
   "execution_count": 1,
   "metadata": {},
   "outputs": [],
   "source": [
    "# 304. Range Sum Query 2D - Immutable\n",
    "# https://leetcode.com/problems/range-sum-query-2d-immutable/description/\n"
   ]
  },
  {
   "cell_type": "code",
   "execution_count": null,
   "metadata": {},
   "outputs": [],
   "source": [
    "# version 1, applied the same idea from 303 and brought it to 2d.. faster than 5%...python3\n",
    "# well..second submitssion -> faster than 17%... now i think it has something to do with the server itself...\n",
    "\n",
    "class NumMatrix:\n",
    "\n",
    "    def __init__(self, matrix):\n",
    "        \"\"\"\n",
    "        :type matrix: List[List[int]]\n",
    "        \"\"\"\n",
    "        self.content = matrix\n",
    "        try:\n",
    "            self.row_num = len(matrix)\n",
    "            self.col_num = len(matrix[0])\n",
    "            for i in range(self.row_num):\n",
    "                for j in range(1, self.col_num):\n",
    "                    self.content[i][j] += self.content[i][j-1]\n",
    "        except:\n",
    "            self.content = None\n",
    "\n",
    "\n",
    "    def sumRegion(self, row1, col1, row2, col2):\n",
    "        \"\"\"\n",
    "        :type row1: int\n",
    "        :type col1: int\n",
    "        :type row2: int\n",
    "        :type col2: int\n",
    "        :rtype: int\n",
    "        \"\"\"\n",
    "        if self.content:\n",
    "            tmp = 0\n",
    "            for r in range(row1,row2+1):\n",
    "                tmp +=  self.content[r][col2] - (self.content[r][col1-1] if col1 >0 else 0)\n",
    "            return tmp\n",
    "        else:\n",
    "            return 0\n",
    "\n",
    "\n",
    "# Your NumMatrix object will be instantiated and called as such:\n",
    "# obj = NumMatrix(matrix)\n",
    "# param_1 = obj.sumRegion(row1,col1,row2,col2)"
   ]
  },
  {
   "cell_type": "code",
   "execution_count": null,
   "metadata": {},
   "outputs": [],
   "source": []
  },
  {
   "cell_type": "code",
   "execution_count": null,
   "metadata": {},
   "outputs": [],
   "source": []
  },
  {
   "cell_type": "code",
   "execution_count": null,
   "metadata": {},
   "outputs": [],
   "source": []
  },
  {
   "cell_type": "code",
   "execution_count": null,
   "metadata": {},
   "outputs": [],
   "source": []
  },
  {
   "cell_type": "code",
   "execution_count": null,
   "metadata": {},
   "outputs": [],
   "source": []
  }
 ],
 "metadata": {
  "kernelspec": {
   "display_name": "Python 3",
   "language": "python",
   "name": "python3"
  },
  "language_info": {
   "codemirror_mode": {
    "name": "ipython",
    "version": 3
   },
   "file_extension": ".py",
   "mimetype": "text/x-python",
   "name": "python",
   "nbconvert_exporter": "python",
   "pygments_lexer": "ipython3",
   "version": "3.6.6"
  }
 },
 "nbformat": 4,
 "nbformat_minor": 2
}
