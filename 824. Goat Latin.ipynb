{
 "cells": [
  {
   "cell_type": "code",
   "execution_count": null,
   "metadata": {},
   "outputs": [],
   "source": [
    "# https://leetcode.com/problems/goat-latin/"
   ]
  },
  {
   "cell_type": "code",
   "execution_count": null,
   "metadata": {},
   "outputs": [],
   "source": []
  },
  {
   "cell_type": "code",
   "execution_count": null,
   "metadata": {},
   "outputs": [],
   "source": []
  },
  {
   "cell_type": "code",
   "execution_count": null,
   "metadata": {},
   "outputs": [],
   "source": []
  },
  {
   "cell_type": "code",
   "execution_count": null,
   "metadata": {},
   "outputs": [],
   "source": [
    "# version 1 # faster than 30% python 3\n",
    "class Solution:\n",
    "    def toGoatLatin(self, S):\n",
    "        \"\"\"\n",
    "        :type S: str\n",
    "        :rtype: str\n",
    "        \"\"\"\n",
    "        s = S.split(\" \")\n",
    "        tmp = []\n",
    "        for i in range(0,len(s)):\n",
    "            word = s[i]\n",
    "            print(word)\n",
    "            if word[0] in [\"a\",\"e\",\"i\",\"o\",\"u\",\"A\",\"E\",\"I\",\"O\",\"U\"]:\n",
    "                #case 1,\n",
    "                word += \"ma\"\n",
    "            else:\n",
    "                #case 2,\n",
    "                word = word[1:] + word[0]\n",
    "                word += \"ma\"\n",
    "            word = word + \"a\" * (i+1)\n",
    "            tmp.append(word)\n",
    "        out = \" \".join(tmp)\n",
    "        # print(out)\n",
    "        return out\n",
    "            \n",
    "        \n",
    "        "
   ]
  },
  {
   "cell_type": "code",
   "execution_count": null,
   "metadata": {},
   "outputs": [],
   "source": [
    "# version 2, faster than 64.88% python 3 ....what?!...second time submit faster than 99.31%?.....\n",
    "class Solution:\n",
    "    def toGoatLatin(self, S):\n",
    "        \"\"\"\n",
    "        :type S: str\n",
    "        :rtype: str\n",
    "        \"\"\"\n",
    "        s = S.split(\" \")\n",
    "        for i in range(0,len(s)):\n",
    "            if s[i][0] in [\"a\",\"e\",\"i\",\"o\",\"u\",\"A\",\"E\",\"I\",\"O\",\"U\"]:\n",
    "                #case 1,\n",
    "                s[i] += \"ma\"\n",
    "            else:\n",
    "                #case 2,\n",
    "                s[i] = s[i][1:] + s[i][0]\n",
    "                s[i] += \"ma\"\n",
    "            s[i] = s[i] + \"a\" * (i+1)\n",
    "        return \" \".join(s)"
   ]
  },
  {
   "cell_type": "code",
   "execution_count": null,
   "metadata": {},
   "outputs": [],
   "source": [
    "# verison 3, faster than 47.4% python 3!!!... not in is more expensive than in!\n",
    "class Solution:\n",
    "    def toGoatLatin(self, S):\n",
    "        \"\"\"\n",
    "        :type S: str\n",
    "        :rtype: str\n",
    "        \"\"\"\n",
    "        s = S.split(\" \")\n",
    "        for i in range(0,len(s)):\n",
    "            if s[i][0] not in [\"a\",\"e\",\"i\",\"o\",\"u\",\"A\",\"E\",\"I\",\"O\",\"U\"]:\n",
    "                s[i] = s[i][1:] + s[i][0]\n",
    "            s[i] += \"ma\"\n",
    "            s[i] = s[i] + \"a\" * (i+1)\n",
    "        return \" \".join(s)\n",
    "    \n",
    "# version 3.1, still 47.4%...\n",
    "class Solution:\n",
    "    def toGoatLatin(self, S):\n",
    "        \"\"\"\n",
    "        :type S: str\n",
    "        :rtype: str\n",
    "        \"\"\"\n",
    "        s = S.split(\" \")\n",
    "        for i in range(0,len(s)):\n",
    "            if s[i][0] in [\"a\",\"e\",\"i\",\"o\",\"u\",\"A\",\"E\",\"I\",\"O\",\"U\"]:\n",
    "                True\n",
    "            else:\n",
    "                #case 2,\n",
    "                s[i] = s[i][1:] + s[i][0]\n",
    "            s[i] += \"ma\"\n",
    "            s[i] = s[i] + \"a\" * (i+1)\n",
    "        return \" \".join(s)    "
   ]
  },
  {
   "cell_type": "code",
   "execution_count": null,
   "metadata": {},
   "outputs": [],
   "source": [
    "# version 4, faster than 47.4% python 3.... 44ms\n",
    "class Solution:\n",
    "    def toGoatLatin(self, S):\n",
    "        \"\"\"\n",
    "        :type S: str\n",
    "        :rtype: str\n",
    "        \"\"\"\n",
    "        s = S.split(\" \")\n",
    "        for i in range(0,len(s)):\n",
    "            if s[i][0] in [\"a\",\"e\",\"i\",\"o\",\"u\",\"A\",\"E\",\"I\",\"O\",\"U\"]:\n",
    "                pass #continue will be wrong!\n",
    "            else:\n",
    "                #case 2,\n",
    "                s[i] = s[i][1:] + s[i][0]\n",
    "            s[i] += \"ma\" + \"a\" * (i+1)\n",
    "        return \" \".join(s)"
   ]
  }
 ],
 "metadata": {
  "kernelspec": {
   "display_name": "Python 3",
   "language": "python",
   "name": "python3"
  },
  "language_info": {
   "codemirror_mode": {
    "name": "ipython",
    "version": 3
   },
   "file_extension": ".py",
   "mimetype": "text/x-python",
   "name": "python",
   "nbconvert_exporter": "python",
   "pygments_lexer": "ipython3",
   "version": "3.6.6"
  }
 },
 "nbformat": 4,
 "nbformat_minor": 2
}
