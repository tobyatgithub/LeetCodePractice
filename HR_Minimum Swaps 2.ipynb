{
 "cells": [
  {
   "cell_type": "code",
   "execution_count": null,
   "metadata": {},
   "outputs": [],
   "source": [
    "# Minimum Swaps 2\n",
    "# https://www.hackerrank.com/challenges/minimum-swaps-2/problem?h_l=interview&playlist_slugs%5B%5D=interview-preparation-kit&playlist_slugs%5B%5D=arrays"
   ]
  },
  {
   "cell_type": "code",
   "execution_count": null,
   "metadata": {},
   "outputs": [],
   "source": []
  },
  {
   "cell_type": "code",
   "execution_count": 1,
   "metadata": {},
   "outputs": [
    {
     "data": {
      "text/plain": [
       "[1, 2, 3, 4]"
      ]
     },
     "execution_count": 1,
     "metadata": {},
     "output_type": "execute_result"
    }
   ],
   "source": [
    "[*range(1, 5)]"
   ]
  },
  {
   "cell_type": "code",
   "execution_count": 23,
   "metadata": {},
   "outputs": [],
   "source": [
    "# version 1, 10/15 passed, 5/15 time out\n",
    "\n",
    "def minimumSwaps(a):\n",
    "    count = 0\n",
    "    for i in range(0,len(a)):\n",
    "        if a[i] != i+1:\n",
    "            for j in range(i,len(a)):\n",
    "                if a[j] == i+1:\n",
    "                    a[i] , a[j] = a[j], a[i]\n",
    "                    count += 1\n",
    "                    break\n",
    "    return count"
   ]
  },
  {
   "cell_type": "code",
   "execution_count": 24,
   "metadata": {},
   "outputs": [],
   "source": [
    "# for i in range(1,len(a)+1):\n",
    "#     print(i)"
   ]
  },
  {
   "cell_type": "code",
   "execution_count": 27,
   "metadata": {},
   "outputs": [
    {
     "data": {
      "text/plain": [
       "3"
      ]
     },
     "execution_count": 27,
     "metadata": {},
     "output_type": "execute_result"
    }
   ],
   "source": [
    "a = [4,3,1,2]\n",
    "\n",
    "# version 2, 10/15 passed, 5/15 time out\n",
    "# idea was to save some time at the second for loop by keep a location index list, where the\n",
    "# location with correct value will be skipped --- but since we are scanning from the beginning,\n",
    "# it makes snese that this actually doesn't affect much.\n",
    "\n",
    "def minimumSwaps(a):\n",
    "    count = 0\n",
    "    index = [*range(len(a))]\n",
    "    for i in range(0,len(a)):\n",
    "        if a[i] == i+1:\n",
    "            index.remove(i)\n",
    "        else:\n",
    "            for j in index:\n",
    "                if a[j] == i+1:\n",
    "                    a[i] , a[j] = a[j], a[i]\n",
    "                    index.remove(i)\n",
    "                    count += 1\n",
    "                    break\n",
    "    return count\n",
    "\n",
    "minimumSwaps(a)"
   ]
  },
  {
   "cell_type": "code",
   "execution_count": 42,
   "metadata": {},
   "outputs": [
    {
     "name": "stdout",
     "output_type": "stream",
     "text": [
      "4 1\n",
      "3 2\n",
      "4 3\n",
      "3\n"
     ]
    },
    {
     "data": {
      "text/plain": [
       "{4: 3, 3: 2, 1: 0, 2: 1}"
      ]
     },
     "execution_count": 42,
     "metadata": {},
     "output_type": "execute_result"
    }
   ],
   "source": [
    "# version 3, maybe a dictionary with numbers as key and locations as content will make more sense.\n",
    "# the key challenge here is to save time for the second loop, especially in finding-which-to-swap\n",
    "# process. With a dictionary, we shall be able to find it easily\n",
    "\n",
    "# Yep, passed. with one werid case a = [1, 3, 5, 2, 4, 6, 8] # hum..a werid one\n",
    "a = [4,3,1,2]\n",
    "\n",
    "def minimumSwaps(a):\n",
    "    count = 0\n",
    "    save = {}\n",
    "    # first round, save everything into the dic\n",
    "    for i in range(len(a)):\n",
    "        save[a[i]] = i\n",
    "        \n",
    "    # second round, now we want to swap\n",
    "    for j in range(1,len(a)+1):\n",
    "        # wrong place, need swap\n",
    "        if a[j-1] != j: \n",
    "            print(a[j-1],j)\n",
    "            loc = save[j]\n",
    "            a[j-1], a[loc] = a[loc], a[j-1]\n",
    "            save[a[loc]], save[a[j-1]] = save[a[j-1]], save[a[loc]]\n",
    "            count += 1\n",
    "    print(count)\n",
    "    return save\n",
    "\n",
    "minimumSwaps(a)"
   ]
  },
  {
   "cell_type": "code",
   "execution_count": 34,
   "metadata": {},
   "outputs": [
    {
     "data": {
      "text/plain": [
       "0"
      ]
     },
     "execution_count": 34,
     "metadata": {},
     "output_type": "execute_result"
    }
   ],
   "source": [
    "t = {4: 0, 3: 1, 1: 2, 2: 3}\n",
    "t[4]"
   ]
  },
  {
   "cell_type": "code",
   "execution_count": 21,
   "metadata": {},
   "outputs": [
    {
     "data": {
      "text/plain": [
       "[4, 3, 1, 2]"
      ]
     },
     "execution_count": 21,
     "metadata": {},
     "output_type": "execute_result"
    }
   ],
   "source": [
    "a"
   ]
  },
  {
   "cell_type": "code",
   "execution_count": 15,
   "metadata": {},
   "outputs": [
    {
     "data": {
      "text/plain": [
       "[1, 3, 4]"
      ]
     },
     "execution_count": 15,
     "metadata": {},
     "output_type": "execute_result"
    }
   ],
   "source": [
    "# a.remove(2)\n",
    "a"
   ]
  },
  {
   "cell_type": "code",
   "execution_count": 26,
   "metadata": {},
   "outputs": [
    {
     "data": {
      "text/plain": [
       "range(0, 4)"
      ]
     },
     "execution_count": 26,
     "metadata": {},
     "output_type": "execute_result"
    }
   ],
   "source": [
    "range(len(a))"
   ]
  },
  {
   "cell_type": "code",
   "execution_count": null,
   "metadata": {},
   "outputs": [],
   "source": []
  }
 ],
 "metadata": {
  "kernelspec": {
   "display_name": "Python 3",
   "language": "python",
   "name": "python3"
  },
  "language_info": {
   "codemirror_mode": {
    "name": "ipython",
    "version": 3
   },
   "file_extension": ".py",
   "mimetype": "text/x-python",
   "name": "python",
   "nbconvert_exporter": "python",
   "pygments_lexer": "ipython3",
   "version": "3.6.6"
  }
 },
 "nbformat": 4,
 "nbformat_minor": 2
}
